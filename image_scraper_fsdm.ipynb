{
 "cells": [
  {
   "cell_type": "code",
   "execution_count": 1,
   "id": "c3d44cbb",
   "metadata": {},
   "outputs": [],
   "source": [
    "import requests\n",
    "import logging\n",
    "import os\n",
    "from bs4 import BeautifulSoup\n",
    "from urllib.request import urlopen"
   ]
  },
  {
   "cell_type": "code",
   "execution_count": 2,
   "id": "855faeef",
   "metadata": {},
   "outputs": [],
   "source": [
    "save_dir = \"images/\"\n",
    "if not os.path.exists(save_dir):\n",
    "    os.makedirs(save_dir)\n"
   ]
  },
  {
   "cell_type": "code",
   "execution_count": 5,
   "id": "50082ed7",
   "metadata": {},
   "outputs": [],
   "source": [
    "query = 'elon musk'"
   ]
  },
  {
   "cell_type": "code",
   "execution_count": 7,
   "id": "7a1711c5",
   "metadata": {},
   "outputs": [],
   "source": [
    "response= requests.get(f\"https://www.google.co.in/search?q={query}%0D%0Aelon+musk%0D%0Aelon+musk&sca_esv=592795123&tbm=isch&sxsrf=AM9HkKmy2C6Zu3SRGi_II2qgNzL3-XkNEQ:1703156734482&source=lnms&sa=X&ved=2ahUKEwiw-Z6hsaCDAxV2jGMGHbPbCagQ_AUoAnoECAQQBA\")"
   ]
  },
  {
   "cell_type": "code",
   "execution_count": 8,
   "id": "a953bbee",
   "metadata": {},
   "outputs": [
    {
     "data": {
      "text/plain": [
       "<Response [200]>"
      ]
     },
     "execution_count": 8,
     "metadata": {},
     "output_type": "execute_result"
    }
   ],
   "source": [
    "response"
   ]
  },
  {
   "cell_type": "code",
   "execution_count": 10,
   "id": "ca5d51b6",
   "metadata": {},
   "outputs": [],
   "source": [
    "soup=BeautifulSoup(response.content,\"html.parser\")"
   ]
  },
  {
   "cell_type": "code",
   "execution_count": 11,
   "id": "2c9c9470",
   "metadata": {},
   "outputs": [
    {
     "data": {
      "text/plain": [
       "<!DOCTYPE html PUBLIC \"-//WAPFORUM//DTD XHTML Mobile 1.0//EN\" \"http://www.wapforum.org/DTD/xhtml-mobile10.dtd\">\n",
       "<html lang=\"en-IN\" xmlns=\"http://www.w3.org/1999/xhtml\"><head><meta content=\"application/xhtml+xml; charset=utf-8\" http-equiv=\"Content-Type\"/><meta content=\"no-cache\" name=\"Cache-Control\"/><title>elon musk\n",
       "elon musk\n",
       "elon musk - Google Search</title><style>a{text-decoration:none;color:inherit}a:hover{text-decoration:underline}a img{border:0}body{font-family:arial,sans-serif;padding:8px;margin:0 auto;max-width:700px;min-width:240px;}.FbhRzb{border-left:thin solid #dadce0;border-right:thin solid #dadce0;border-top:thin solid #dadce0;height:40px;overflow:hidden}.n692Zd{margin-bottom:10px}.cvifge{height:40px;border-spacing:0}.QvGUP{height:40px;padding:0 8px 0 8px;vertical-align:top}.O4cRJf{height:40px;width:100%;padding:0;padding-right:16px}.O1ePr{height:40px;padding:0;vertical-align:top}.kgJEQe{height:36px;width:98px;vertical-align:top;margin-top:4px}.lXLRf{vertical-align:top}.MhzMZd{border:0;vertical-align:middle;font-size:14px;height:40px;padding:0;width:100%;padding-left:16px}.xB0fq{height:40px;border:none;font-size:14px;background-color:#1a73e8;color:#fff;padding:0 16px;margin:0;vertical-align:top;cursor:pointer}.xB0fq:focus{border:1px solid #1a73e8}.M7pB2{border:thin solid #dadce0;margin:0 0 3px 0;font-size:13px;font-weight:500;height:40px}.euZec{width:100%;height:40px;text-align:center;border-spacing:0}table.euZec td{padding:0;width:25%}.QIqI7{display:inline-block;padding-top:4px;font-weight:bold;color:#4285f4}.EY24We{border-bottom:2px solid #4285f4}.CsQyDc{display:inline-block;color:#70757a}.TuS8Ad{font-size:14px}.HddGcc{padding:8px;color:#70757a}.dzp8ae{font-weight:bold;color:#3c4043}.rEM8G{color:#70757a}.bookcf{table-layout:fixed;width:100%;border-spacing:0}.InWNIe{text-align:center}.uZgmoc{border:thin solid #dadce0;color:#70757a;font-size:14px;text-align:center;table-layout:fixed;width:100%}.frGj1b{display:block;padding:12px 0 12px 0;width:100%}.BnJWBc{text-align:center;padding:6px 0 13px 0;height:35px}.e3goi{vertical-align:top;padding:0;height:180px}.GpQGbf{margin:auto;border-collapse:collapse;border-spacing:0;width:100%}</style></head><body><style>.X6ZCif{color:#202124;font-size:11px;line-height:16px;display:inline-block;padding-top:2px;overflow:hidden;padding-bottom:4px;width:100%}.TwVfHd{border-radius:16px;border:thin solid #dadce0;display:inline-block;padding:8px 8px;margin-right:8px;margin-bottom:4px}.yekiAe{background-color:#dadce0}.jjVJ4e{width:100%}.ezO2md{border:thin solid #dadce0;padding:12px 16px 12px 16px;margin-bottom:10px;font-family:arial,sans-serif}.lIMUZd{font-family:arial,sans-serif}.RntSmf{border-spacing:0}.lgD2Tc{width:100%}.SpelHe{text-align:center}.SpelHe{position:relative}.deHqpb{bottom:0;left:0;margin:auto;position:absolute;right:0;top:0}.kCmkOe{position:relative}.ID6Z3b{background-image:url(https://www.gstatic.com/search_trustx/visibility_off_icon_p0-7d897bf44bafe5436baa9009e8716337.png);background-repeat:no-repeat;background-position:center;background-size:20px}.kCmkOe{width:162px;height:140px;line-height:140px;overflow:'hidden';text-align:center}.DS1iW{text-align:center;margin:auto;vertical-align:middle;max-width:162px;max-height:140px}.AlD19d{padding-top:2px;padding-bottom:8px;}.fYyStc{word-break:break-word}.ynsChf{display:block;white-space:nowrap;overflow:hidden;text-overflow:ellipsis}.Fj3V3b{color:#1967d2;font-size:14px;line-height:20px}.FrIlee{color:#202124;font-size:11px;line-height:16px}.F9iS2e{color:#70757a;font-size:11px;line-height:16px}.WMQ2Le{color:#70757a;font-size:12px;line-height:16px}.x3G5ab{color:#202124;font-size:12px;line-height:16px}.fuLhoc{color:#1967d2;font-size:16px;line-height:20px}.epoveb{font-size:24px;line-height:28px;font-weight:400;color:#202124}.dXDvrc{color:#0d652d;font-size:14px;line-height:20px;word-wrap:break-word}.dloBPe{font-weight:bold}.YVIcad{color:#70757a}.JkVVdd{color:#ea4335}.oXZRFd{color:#ea4335}.MQHtg{color:#fbbc04}.pyMRrb{color:#1e8e3e}.EtTZid{color:#1e8e3e}.M3vVJe{color:#1967d2}.qXLe6d{display:block}.NHQNef{font-style:italic}.Cb8Z7c{white-space:pre}a.ZWRArf{text-decoration:none}a .CVA68e:hover{text-decoration:underline}</style><div class=\"n692Zd\"><div class=\"BnJWBc\"><a class=\"lXLRf\" href=\"/?sa=X&amp;sca_esv=592795123&amp;output=images&amp;ie=UTF-8&amp;tbm=isch&amp;ved=0ahUKEwi4qoGds6CDAxWYTWwGHaGOBN8QPAgC\"><img alt=\"Google\" class=\"kgJEQe\" src=\"/images/branding/searchlogo/1x/googlelogo_desk_heirloom_color_150x55dp.gif\"/></a></div><div class=\"FbhRzb\"><form action=\"/search\"><input name=\"sca_esv\" type=\"hidden\" value=\"592795123\"/><input name=\"ie\" type=\"hidden\" value=\"ISO-8859-1\"/><input name=\"tbm\" type=\"hidden\" value=\"isch\"/><input name=\"oq\" type=\"hidden\"/><input name=\"aqs\" type=\"hidden\"/><table class=\"cvifge\"><tr><td class=\"O4cRJf\"><input class=\"MhzMZd\" name=\"q\" type=\"text\" value=\"elon musk\n",
       "elon musk\n",
       "elon musk\"/></td><td class=\"O1ePr\"><input class=\"xB0fq\" type=\"submit\" value=\"Search\"/></td></tr></table></form></div><div class=\"M7pB2\"><table class=\"euZec\"><tbody><tr><td><a class=\"CsQyDc\" href=\"/search?q=elon+musk%0D%0Aelon+musk%0D%0Aelon+musk&amp;sca_esv=592795123&amp;ie=UTF-8&amp;source=lnms&amp;sa=X&amp;ved=0ahUKEwi4qoGds6CDAxWYTWwGHaGOBN8Q_AUIBCgA\">ALL</a></td><td class=\"EY24We\"><span class=\"QIqI7\">IMAGES</span></td><td><a class=\"CsQyDc\" href=\"/search?q=elon+musk%0D%0Aelon+musk%0D%0Aelon+musk&amp;sca_esv=592795123&amp;ie=UTF-8&amp;tbm=nws&amp;source=lnms&amp;sa=X&amp;ved=0ahUKEwi4qoGds6CDAxWYTWwGHaGOBN8Q_AUIBigC\">NEWS</a></td><td><a class=\"CsQyDc\" href=\"/search?q=elon+musk%0D%0Aelon+musk%0D%0Aelon+musk&amp;sca_esv=592795123&amp;ie=UTF-8&amp;tbm=vid&amp;source=lnms&amp;sa=X&amp;ved=0ahUKEwi4qoGds6CDAxWYTWwGHaGOBN8Q_AUIBygD\">VIDEOS</a></td></tr></tbody></table></div></div><div class=\"X6ZCif\"><a class=\"TwVfHd\" href=\"/search?sca_esv=592795123&amp;ie=UTF-8&amp;tbm=isch&amp;q=elon+musk%0D%0Aelon+musk%0D%0Aelon+musk&amp;chips=q:elon+musk+elon+musk+elon+musk,online_chips:tesla&amp;sa=X&amp;ved=0ahUKEwi4qoGds6CDAxWYTWwGHaGOBN8Q4lYICygA\">tesla</a><a class=\"TwVfHd\" href=\"/search?sca_esv=592795123&amp;ie=UTF-8&amp;tbm=isch&amp;q=elon+musk%0D%0Aelon+musk%0D%0Aelon+musk&amp;chips=q:elon+musk+elon+musk+elon+musk,online_chips:book&amp;sa=X&amp;ved=0ahUKEwi4qoGds6CDAxWYTWwGHaGOBN8Q4lYIDCgB\">book</a><a class=\"TwVfHd\" href=\"/search?sca_esv=592795123&amp;ie=UTF-8&amp;tbm=isch&amp;q=elon+musk%0D%0Aelon+musk%0D%0Aelon+musk&amp;chips=q:elon+musk+elon+musk+elon+musk,online_chips:darren+aronofsky&amp;sa=X&amp;ved=0ahUKEwi4qoGds6CDAxWYTWwGHaGOBN8Q4lYIDSgC\">darren aronofsky</a><a class=\"TwVfHd\" href=\"/search?sca_esv=592795123&amp;ie=UTF-8&amp;tbm=isch&amp;q=elon+musk%0D%0Aelon+musk%0D%0Aelon+musk&amp;chips=q:elon+musk+elon+musk+elon+musk,online_chips:biography&amp;sa=X&amp;ved=0ahUKEwi4qoGds6CDAxWYTWwGHaGOBN8Q4lYIDigD\">biography</a><a class=\"TwVfHd\" href=\"/search?sca_esv=592795123&amp;ie=UTF-8&amp;tbm=isch&amp;q=elon+musk%0D%0Aelon+musk%0D%0Aelon+musk&amp;chips=q:elon+musk+elon+musk+elon+musk,online_chips:walter+isaacson&amp;sa=X&amp;ved=0ahUKEwi4qoGds6CDAxWYTWwGHaGOBN8Q4lYIDygE\">walter isaacson</a><a class=\"TwVfHd\" href=\"/search?sca_esv=592795123&amp;ie=UTF-8&amp;tbm=isch&amp;q=elon+musk%0D%0Aelon+musk%0D%0Aelon+musk&amp;chips=q:elon+musk+elon+musk+elon+musk,online_chips:twitter&amp;sa=X&amp;ved=0ahUKEwi4qoGds6CDAxWYTWwGHaGOBN8Q4lYIECgF\">twitter</a><a class=\"TwVfHd\" href=\"/search?sca_esv=592795123&amp;ie=UTF-8&amp;tbm=isch&amp;q=elon+musk%0D%0Aelon+musk%0D%0Aelon+musk&amp;chips=q:elon+musk+elon+musk+elon+musk,online_chips:richest+person&amp;sa=X&amp;ved=0ahUKEwi4qoGds6CDAxWYTWwGHaGOBN8Q4lYIESgG\">richest person</a><a class=\"TwVfHd\" href=\"/search?sca_esv=592795123&amp;ie=UTF-8&amp;tbm=isch&amp;q=elon+musk%0D%0Aelon+musk%0D%0Aelon+musk&amp;chips=q:elon+musk+elon+musk+elon+musk,online_chips:musk+wikipedia&amp;sa=X&amp;ved=0ahUKEwi4qoGds6CDAxWYTWwGHaGOBN8Q4lYIEigH\">musk wikipedia</a><a class=\"TwVfHd\" href=\"/search?sca_esv=592795123&amp;ie=UTF-8&amp;tbm=isch&amp;q=elon+musk%0D%0Aelon+musk%0D%0Aelon+musk&amp;chips=q:elon+musk+elon+musk+elon+musk,online_chips:entrepreneur&amp;sa=X&amp;ved=0ahUKEwi4qoGds6CDAxWYTWwGHaGOBN8Q4lYIEygI\">entrepreneur</a><a class=\"TwVfHd\" href=\"/search?sca_esv=592795123&amp;ie=UTF-8&amp;tbm=isch&amp;q=elon+musk%0D%0Aelon+musk%0D%0Aelon+musk&amp;chips=q:elon+musk+elon+musk+elon+musk,online_chips:spacex&amp;sa=X&amp;ved=0ahUKEwi4qoGds6CDAxWYTWwGHaGOBN8Q4lYIFCgJ\">spacex</a></div><div><table class=\"GpQGbf\"><tr><td align=\"center\" class=\"e3goi\"><div class=\"jjVJ4e\"> <div> <div class=\"lIMUZd\"><div><table class=\"RntSmf\"><tr><td><a href=\"/url?q=https://en.wikipedia.org/wiki/Elon_Musk&amp;sa=U&amp;ved=2ahUKEwi4qoGds6CDAxWYTWwGHaGOBN8QqoUBegQIABAB&amp;usg=AOvVaw0wIYLckEAhsAwdap_haBej\"><div class=\"kCmkOe\"><img alt=\"\" class=\"DS1iW\" src=\"https://encrypted-tbn0.gstatic.com/images?q=tbn:ANd9GcQ91bYeYuNi93Snai-G61-ct5IkXUEpoeW1RpiOFFuRWggNeJf-7uN0OZsy5XI&amp;s\"/></div></a></td></tr><tr><td><a href=\"/url?q=https://en.wikipedia.org/wiki/Elon_Musk&amp;sa=U&amp;ved=2ahUKEwi4qoGds6CDAxWYTWwGHaGOBN8Qr4kDegQIABAC&amp;usg=AOvVaw2XTcaKXNl_dJ54vB5mZ8Pq\"><div class=\"AlD19d\"> <span class=\"qXLe6d x3G5ab\"> <span class=\"fYyStc\">Elon Musk - Wikipedia</span> </span> <span class=\"qXLe6d F9iS2e\"> <span class=\"fYyStc\">en.wikipedia.org</span> </span> </div></a></td></tr></table></div></div> </div> </div></td><td align=\"center\" class=\"e3goi\"><div class=\"jjVJ4e\"> <div> <div class=\"lIMUZd\"><div><table class=\"RntSmf\"><tr><td><a href=\"/url?q=https://www.britannica.com/biography/Elon-Musk&amp;sa=U&amp;ved=2ahUKEwi4qoGds6CDAxWYTWwGHaGOBN8QqoUBegQIExAB&amp;usg=AOvVaw3ZzN48034-sB258stY3hS8\"><div class=\"kCmkOe\"><img alt=\"\" class=\"DS1iW\" src=\"https://encrypted-tbn0.gstatic.com/images?q=tbn:ANd9GcQY_R5NSNoZkSlMo3hf86COGJ4fCv0s6Nx4k8uCGkWc6YGOn_m4-rIOQ3GhOhg&amp;s\"/></div></a></td></tr><tr><td><a href=\"/url?q=https://www.britannica.com/biography/Elon-Musk&amp;sa=U&amp;ved=2ahUKEwi4qoGds6CDAxWYTWwGHaGOBN8Qr4kDegQIExAC&amp;usg=AOvVaw0Mix0A_bnbp2w5oT1eZmKz\"><div class=\"AlD19d\"> <span class=\"qXLe6d x3G5ab\"> <span class=\"fYyStc\">Elon Musk | Biography,...</span> </span> <span class=\"qXLe6d F9iS2e\"> <span class=\"fYyStc\">www.britannica.com</span> </span> </div></a></td></tr></table></div></div> </div> </div></td><td align=\"center\" class=\"e3goi\"><div class=\"jjVJ4e\"> <div> <div class=\"lIMUZd\"><div><table class=\"RntSmf\"><tr><td><a href=\"/url?q=https://www.simonandschuster.com/books/Elon-Musk/Walter-Isaacson/9781982181284&amp;sa=U&amp;ved=2ahUKEwi4qoGds6CDAxWYTWwGHaGOBN8QqoUBegQIEhAB&amp;usg=AOvVaw23_5bYR92qtem6_Kn7_Ixh\"><div class=\"kCmkOe\"><img alt=\"\" class=\"DS1iW\" src=\"https://encrypted-tbn0.gstatic.com/images?q=tbn:ANd9GcS6PtbO3oSFgC1yh6BPlre0Sr5h3aca6UrEmg7ibGUrD1g40Xm5cZBGYl7G3PU&amp;s\"/></div></a></td></tr><tr><td><a href=\"/url?q=https://www.simonandschuster.com/books/Elon-Musk/Walter-Isaacson/9781982181284&amp;sa=U&amp;ved=2ahUKEwi4qoGds6CDAxWYTWwGHaGOBN8Qr4kDegQIEhAC&amp;usg=AOvVaw2IDFvEi7lzzx49fFaoA8Vo\"><div class=\"AlD19d\"> <span class=\"qXLe6d x3G5ab\"> <span class=\"fYyStc\">Elon Musk | Book by Walter...</span> </span> <span class=\"qXLe6d F9iS2e\"> <span class=\"fYyStc\">www.simonandschuster.com</span> </span> </div></a></td></tr></table></div></div> </div> </div></td><td align=\"center\" class=\"e3goi\"><div class=\"jjVJ4e\"> <div> <div class=\"lIMUZd\"><div><table class=\"RntSmf\"><tr><td><a href=\"/url?q=https://www.biography.com/business-leaders/elon-musk&amp;sa=U&amp;ved=2ahUKEwi4qoGds6CDAxWYTWwGHaGOBN8QqoUBegQICxAB&amp;usg=AOvVaw0BwB2AnSnk3cC0CtmlUawF\"><div class=\"kCmkOe\"><img alt=\"\" class=\"DS1iW\" src=\"https://encrypted-tbn0.gstatic.com/images?q=tbn:ANd9GcSWquD3V9PShopfxR5z4mBgB3IZnXGWVDSQM_48N0nbiI_0DYg43GVIktea3Uc&amp;s\"/></div></a></td></tr><tr><td><a href=\"/url?q=https://www.biography.com/business-leaders/elon-musk&amp;sa=U&amp;ved=2ahUKEwi4qoGds6CDAxWYTWwGHaGOBN8Qr4kDegQICxAC&amp;usg=AOvVaw2LEF7Ritut7oWylgklgQlb\"><div class=\"AlD19d\"> <span class=\"qXLe6d x3G5ab\"> <span class=\"fYyStc\">Elon Musk - Tesla, Age &amp;...</span> </span> <span class=\"qXLe6d F9iS2e\"> <span class=\"fYyStc\">www.biography.com</span> </span> </div></a></td></tr></table></div></div> </div> </div></td></tr><tr><td align=\"center\" class=\"e3goi\"><div class=\"jjVJ4e\"> <div> <div class=\"lIMUZd\"><div><table class=\"RntSmf\"><tr><td><a href=\"/url?q=https://www.britannica.com/biography/Elon-Musk&amp;sa=U&amp;ved=2ahUKEwi4qoGds6CDAxWYTWwGHaGOBN8QqoUBegQIERAB&amp;usg=AOvVaw11ZotT-xthi9Xt4qbNZbs4\"><div class=\"kCmkOe\"><img alt=\"\" class=\"DS1iW\" src=\"https://encrypted-tbn0.gstatic.com/images?q=tbn:ANd9GcS6mPr1g683xgMlTnJfswzPyIjixDUJCLKR_GUOYd43dGj0LB8Uum64r_cOjl4&amp;s\"/></div></a></td></tr><tr><td><a href=\"/url?q=https://www.britannica.com/biography/Elon-Musk&amp;sa=U&amp;ved=2ahUKEwi4qoGds6CDAxWYTWwGHaGOBN8Qr4kDegQIERAC&amp;usg=AOvVaw1Q5BBoDFR_qNLZ5-XmoyWn\"><div class=\"AlD19d\"> <span class=\"qXLe6d x3G5ab\"> <span class=\"fYyStc\">Elon Musk | Biography,...</span> </span> <span class=\"qXLe6d F9iS2e\"> <span class=\"fYyStc\">www.britannica.com</span> </span> </div></a></td></tr></table></div></div> </div> </div></td><td align=\"center\" class=\"e3goi\"><div class=\"jjVJ4e\"> <div> <div class=\"lIMUZd\"><div><table class=\"RntSmf\"><tr><td><a href=\"/url?q=https://www.investopedia.com/articles/personal-finance/061015/how-elon-musk-became-elon-musk.asp&amp;sa=U&amp;ved=2ahUKEwi4qoGds6CDAxWYTWwGHaGOBN8QqoUBegQIEBAB&amp;usg=AOvVaw1n6XF1G4_PAJC_yOfQy2NL\"><div class=\"kCmkOe\"><img alt=\"\" class=\"DS1iW\" src=\"https://encrypted-tbn0.gstatic.com/images?q=tbn:ANd9GcRxf-Jbkdb6IZIh7oNtWyJhYtw3Kg80gamyGyRHZS8klkCrAzThS_D2ymM47A&amp;s\"/></div></a></td></tr><tr><td><a href=\"/url?q=https://www.investopedia.com/articles/personal-finance/061015/how-elon-musk-became-elon-musk.asp&amp;sa=U&amp;ved=2ahUKEwi4qoGds6CDAxWYTWwGHaGOBN8Qr4kDegQIEBAC&amp;usg=AOvVaw0gVoP082pNNsP8D4xyBZ81\"><div class=\"AlD19d\"> <span class=\"qXLe6d x3G5ab\"> <span class=\"fYyStc\">Who Is Elon Musk?</span> </span> <span class=\"qXLe6d F9iS2e\"> <span class=\"fYyStc\">www.investopedia.com</span> </span> </div></a></td></tr></table></div></div> </div> </div></td><td align=\"center\" class=\"e3goi\"><div class=\"jjVJ4e\"> <div> <div class=\"lIMUZd\"><div><table class=\"RntSmf\"><tr><td><a href=\"/url?q=https://www.businessinsider.com/elon-musk&amp;sa=U&amp;ved=2ahUKEwi4qoGds6CDAxWYTWwGHaGOBN8QqoUBegQIDxAB&amp;usg=AOvVaw2lOJgpr-5NSy2XGaB0As1r\"><div class=\"kCmkOe\"><img alt=\"\" class=\"DS1iW\" src=\"https://encrypted-tbn0.gstatic.com/images?q=tbn:ANd9GcSit4pT757dcMc1WPbrVBkYUb5E4Ygt_lFw8lpxrFlwyd64-XHkaUddjMVxd4o&amp;s\"/></div></a></td></tr><tr><td><a href=\"/url?q=https://www.businessinsider.com/elon-musk&amp;sa=U&amp;ved=2ahUKEwi4qoGds6CDAxWYTWwGHaGOBN8Qr4kDegQIDxAC&amp;usg=AOvVaw0UTRYlM87jXUxfylWVg_5i\"><div class=\"AlD19d\"> <span class=\"qXLe6d x3G5ab\"> <span class=\"fYyStc\">Elon Musk Runs Twitter,...</span> </span> <span class=\"qXLe6d F9iS2e\"> <span class=\"fYyStc\">www.businessinsider.com</span> </span> </div></a></td></tr></table></div></div> </div> </div></td><td align=\"center\" class=\"e3goi\"><div class=\"jjVJ4e\"> <div> <div class=\"lIMUZd\"><div><table class=\"RntSmf\"><tr><td><a href=\"/url?q=https://www.reuters.com/legal/elon-musk-appeals-dispute-over-sec-consent-decree-us-supreme-court-2023-12-07/&amp;sa=U&amp;ved=2ahUKEwi4qoGds6CDAxWYTWwGHaGOBN8QqoUBegQIDBAB&amp;usg=AOvVaw1i-GZUCA0aX_gWUrkd3NOd\"><div class=\"kCmkOe\"><img alt=\"\" class=\"DS1iW\" src=\"https://encrypted-tbn0.gstatic.com/images?q=tbn:ANd9GcSC5RSmo0V4rgzk_h3Z2z6nm7BVUJKiKAPrMOn8lwxDNT2XHwiAhBifDjJhLg&amp;s\"/></div></a></td></tr><tr><td><a href=\"/url?q=https://www.reuters.com/legal/elon-musk-appeals-dispute-over-sec-consent-decree-us-supreme-court-2023-12-07/&amp;sa=U&amp;ved=2ahUKEwi4qoGds6CDAxWYTWwGHaGOBN8Qr4kDegQIDBAC&amp;usg=AOvVaw2Hl8CDrmojDCPmQfky5pOu\"><div class=\"AlD19d\"> <span class=\"qXLe6d x3G5ab\"> <span class=\"fYyStc\">Elon Musk appeals dispute...</span> </span> <span class=\"qXLe6d F9iS2e\"> <span class=\"fYyStc\">www.reuters.com</span> </span> </div></a></td></tr></table></div></div> </div> </div></td></tr><tr><td align=\"center\" class=\"e3goi\"><div class=\"jjVJ4e\"> <div> <div class=\"lIMUZd\"><div><table class=\"RntSmf\"><tr><td><a href=\"/url?q=https://www.businesstoday.in/technology/news/story/elon-musks-father-errol-musk-is-concerned-that-his-son-might-be-at-risk-of-assassination-396946-2023-09-05&amp;sa=U&amp;ved=2ahUKEwi4qoGds6CDAxWYTWwGHaGOBN8QqoUBegQIDhAB&amp;usg=AOvVaw1rKByDlVdPFRiMaBmqXAxL\"><div class=\"kCmkOe\"><img alt=\"\" class=\"DS1iW\" src=\"https://encrypted-tbn0.gstatic.com/images?q=tbn:ANd9GcTQzJ8NdjDL9cIHWYkmTSdyrRWTLeCecqJ6jDCU7ihusko_Bkss8Z32axjQ3w&amp;s\"/></div></a></td></tr><tr><td><a href=\"/url?q=https://www.businesstoday.in/technology/news/story/elon-musks-father-errol-musk-is-concerned-that-his-son-might-be-at-risk-of-assassination-396946-2023-09-05&amp;sa=U&amp;ved=2ahUKEwi4qoGds6CDAxWYTWwGHaGOBN8Qr4kDegQIDhAC&amp;usg=AOvVaw0SOf3dfVfoPNCMP0aS6Ob2\"><div class=\"AlD19d\"> <span class=\"qXLe6d x3G5ab\"> <span class=\"fYyStc\">Elon Musk's father Errol...</span> </span> <span class=\"qXLe6d F9iS2e\"> <span class=\"fYyStc\">www.businesstoday.in</span> </span> </div></a></td></tr></table></div></div> </div> </div></td><td align=\"center\" class=\"e3goi\"><div class=\"jjVJ4e\"> <div> <div class=\"lIMUZd\"><div><table class=\"RntSmf\"><tr><td><a href=\"/url?q=https://www.britannica.com/biography/Elon-Musk&amp;sa=U&amp;ved=2ahUKEwi4qoGds6CDAxWYTWwGHaGOBN8QqoUBegQICRAB&amp;usg=AOvVaw3ftUQSozm_1SRShQiNrrE0\"><div class=\"kCmkOe\"><img alt=\"\" class=\"DS1iW\" src=\"https://encrypted-tbn0.gstatic.com/images?q=tbn:ANd9GcQosXj2elVFnxW60i0y2hp3ewC9ttZ6z78KaQ1MIqaaLOD_iocx9TT8qVsKW-k&amp;s\"/></div></a></td></tr><tr><td><a href=\"/url?q=https://www.britannica.com/biography/Elon-Musk&amp;sa=U&amp;ved=2ahUKEwi4qoGds6CDAxWYTWwGHaGOBN8Qr4kDegQICRAC&amp;usg=AOvVaw2Ee0fR2tm-Rg-8uYD6332I\"><div class=\"AlD19d\"> <span class=\"qXLe6d x3G5ab\"> <span class=\"fYyStc\">Elon Musk | Biography,...</span> </span> <span class=\"qXLe6d F9iS2e\"> <span class=\"fYyStc\">www.britannica.com</span> </span> </div></a></td></tr></table></div></div> </div> </div></td><td align=\"center\" class=\"e3goi\"><div class=\"jjVJ4e\"> <div> <div class=\"lIMUZd\"><div><table class=\"RntSmf\"><tr><td><a href=\"/url?q=https://www.theverge.com/23871530/elon-musk-biography-twitter-acquisition&amp;sa=U&amp;ved=2ahUKEwi4qoGds6CDAxWYTWwGHaGOBN8QqoUBegQIChAB&amp;usg=AOvVaw1XpOr3H5sAOHMc1CZY711h\"><div class=\"kCmkOe\"><img alt=\"\" class=\"DS1iW\" src=\"https://encrypted-tbn0.gstatic.com/images?q=tbn:ANd9GcT9rBk-a9Lvwz7Fyzn9IwOyc3J1CddMDXaZgjYYHJfihEdFnfJ0vIUKXaY5Cw&amp;s\"/></div></a></td></tr><tr><td><a href=\"/url?q=https://www.theverge.com/23871530/elon-musk-biography-twitter-acquisition&amp;sa=U&amp;ved=2ahUKEwi4qoGds6CDAxWYTWwGHaGOBN8Qr4kDegQIChAC&amp;usg=AOvVaw3RA6MnTBDqvsg9ZFDnY5Db\"><div class=\"AlD19d\"> <span class=\"qXLe6d x3G5ab\"> <span class=\"fYyStc\">Nine wild details from the...</span> </span> <span class=\"qXLe6d F9iS2e\"> <span class=\"fYyStc\">www.theverge.com</span> </span> </div></a></td></tr></table></div></div> </div> </div></td><td align=\"center\" class=\"e3goi\"><div class=\"jjVJ4e\"> <div> <div class=\"lIMUZd\"><div><table class=\"RntSmf\"><tr><td><a href=\"/url?q=https://people.com/elon-musk-biography-biggest-bombshells-revelations-7968447&amp;sa=U&amp;ved=2ahUKEwi4qoGds6CDAxWYTWwGHaGOBN8QqoUBegQIDRAB&amp;usg=AOvVaw1N0stMChLZATiF3zRC8epz\"><div class=\"kCmkOe\"><img alt=\"\" class=\"DS1iW\" src=\"https://encrypted-tbn0.gstatic.com/images?q=tbn:ANd9GcQDLxOuBumjka6l-AZQpHwv3oGffiEFpaGNLU1tNk-wHHuiQ5h8iU9lJQ3S1A&amp;s\"/></div></a></td></tr><tr><td><a href=\"/url?q=https://people.com/elon-musk-biography-biggest-bombshells-revelations-7968447&amp;sa=U&amp;ved=2ahUKEwi4qoGds6CDAxWYTWwGHaGOBN8Qr4kDegQIDRAC&amp;usg=AOvVaw1QCNTWq7jobtkL01QR2iBS\"><div class=\"AlD19d\"> <span class=\"qXLe6d x3G5ab\"> <span class=\"fYyStc\">Elon Musk Biography:...</span> </span> <span class=\"qXLe6d F9iS2e\"> <span class=\"fYyStc\">people.com</span> </span> </div></a></td></tr></table></div></div> </div> </div></td></tr><tr><td align=\"center\" class=\"e3goi\"><div class=\"jjVJ4e\"> <div> <div class=\"lIMUZd\"><div><table class=\"RntSmf\"><tr><td><a href=\"/url?q=https://www.ndtv.com/feature/how-elon-musk-richest-man-in-the-world-earned-his-first-1-million-4412988&amp;sa=U&amp;ved=2ahUKEwi4qoGds6CDAxWYTWwGHaGOBN8QqoUBegQIAxAB&amp;usg=AOvVaw34eMXyd41sDXQ0_dPJS4x-\"><div class=\"kCmkOe\"><img alt=\"\" class=\"DS1iW\" src=\"https://encrypted-tbn0.gstatic.com/images?q=tbn:ANd9GcSMYNRVFWT78z1HfCjjsXyWHH40VRIwjNiYar3jQYHUhnaCQJZ6GSxCQ6cYto8&amp;s\"/></div></a></td></tr><tr><td><a href=\"/url?q=https://www.ndtv.com/feature/how-elon-musk-richest-man-in-the-world-earned-his-first-1-million-4412988&amp;sa=U&amp;ved=2ahUKEwi4qoGds6CDAxWYTWwGHaGOBN8Qr4kDegQIAxAC&amp;usg=AOvVaw24hzU--UJBl-EENKlxTOPF\"><div class=\"AlD19d\"> <span class=\"qXLe6d x3G5ab\"> <span class=\"fYyStc\">How Elon Musk, Richest Man...</span> </span> <span class=\"qXLe6d F9iS2e\"> <span class=\"fYyStc\">www.ndtv.com</span> </span> </div></a></td></tr></table></div></div> </div> </div></td><td align=\"center\" class=\"e3goi\"><div class=\"jjVJ4e\"> <div> <div class=\"lIMUZd\"><div><table class=\"RntSmf\"><tr><td><a href=\"/url?q=https://www.usatoday.com/story/tech/2022/04/25/who-is-elon-musk-tesla-spacex/7438856001/&amp;sa=U&amp;ved=2ahUKEwi4qoGds6CDAxWYTWwGHaGOBN8QqoUBegQIBBAB&amp;usg=AOvVaw0lKa00I2BSi_-Rd2bRL1Ph\"><div class=\"kCmkOe\"><img alt=\"\" class=\"DS1iW\" src=\"https://encrypted-tbn0.gstatic.com/images?q=tbn:ANd9GcTWJdi6pO_mpg6fBEvwb2IpHMDxJ3UCBhgIl4SW6mbzSwVLvNagjW9uInaf-z0&amp;s\"/></div></a></td></tr><tr><td><a href=\"/url?q=https://www.usatoday.com/story/tech/2022/04/25/who-is-elon-musk-tesla-spacex/7438856001/&amp;sa=U&amp;ved=2ahUKEwi4qoGds6CDAxWYTWwGHaGOBN8Qr4kDegQIBBAC&amp;usg=AOvVaw28rsKqXX69SD3cf5EU3q-t\"><div class=\"AlD19d\"> <span class=\"qXLe6d x3G5ab\"> <span class=\"fYyStc\">Who is Elon Musk? The...</span> </span> <span class=\"qXLe6d F9iS2e\"> <span class=\"fYyStc\">www.usatoday.com</span> </span> </div></a></td></tr></table></div></div> </div> </div></td><td align=\"center\" class=\"e3goi\"><div class=\"jjVJ4e\"> <div> <div class=\"lIMUZd\"><div><table class=\"RntSmf\"><tr><td><a href=\"/url?q=https://www.inc.com/magazine/20071201/entrepreneur-of-the-year-elon-musk.html&amp;sa=U&amp;ved=2ahUKEwi4qoGds6CDAxWYTWwGHaGOBN8QqoUBegQIARAB&amp;usg=AOvVaw2hnKxXe6zHlHmYWbgfjaLH\"><div class=\"kCmkOe\"><img alt=\"\" class=\"DS1iW\" src=\"https://encrypted-tbn0.gstatic.com/images?q=tbn:ANd9GcSifT0y-6dJZMb4JUG4oKjHB_GryHvbV_5LxN7M0mGAsu2zpFPjPnxHn8ntQw&amp;s\"/></div></a></td></tr><tr><td><a href=\"/url?q=https://www.inc.com/magazine/20071201/entrepreneur-of-the-year-elon-musk.html&amp;sa=U&amp;ved=2ahUKEwi4qoGds6CDAxWYTWwGHaGOBN8Qr4kDegQIARAC&amp;usg=AOvVaw1_PBrLDif9p3aT3UNMuMHC\"><div class=\"AlD19d\"> <span class=\"qXLe6d x3G5ab\"> <span class=\"fYyStc\">Entrepreneur of the Year,...</span> </span> <span class=\"qXLe6d F9iS2e\"> <span class=\"fYyStc\">www.inc.com</span> </span> </div></a></td></tr></table></div></div> </div> </div></td><td align=\"center\" class=\"e3goi\"><div class=\"jjVJ4e\"> <div> <div class=\"lIMUZd\"><div><table class=\"RntSmf\"><tr><td><a href=\"/url?q=https://www.businesstoday.in/technology/news/story/elon-musk-tests-1-per-year-subscription-plan-for-all-x-users-who-want-to-post-on-the-platform-check-details-402385-2023-10-18&amp;sa=U&amp;ved=2ahUKEwi4qoGds6CDAxWYTWwGHaGOBN8QqoUBegQIAhAB&amp;usg=AOvVaw2edaEetD6pM1zDccDmMWTh\"><div class=\"kCmkOe\"><img alt=\"\" class=\"DS1iW\" src=\"https://encrypted-tbn0.gstatic.com/images?q=tbn:ANd9GcTwmEzJ-l2dhfo2oYKk6NRM0IdSGKzzcPe9COubgzyEs23qkYCtOLHAX0InZQ&amp;s\"/></div></a></td></tr><tr><td><a href=\"/url?q=https://www.businesstoday.in/technology/news/story/elon-musk-tests-1-per-year-subscription-plan-for-all-x-users-who-want-to-post-on-the-platform-check-details-402385-2023-10-18&amp;sa=U&amp;ved=2ahUKEwi4qoGds6CDAxWYTWwGHaGOBN8Qr4kDegQIAhAC&amp;usg=AOvVaw1H9MkZicchbH-VaslgtDID\"><div class=\"AlD19d\"> <span class=\"qXLe6d x3G5ab\"> <span class=\"fYyStc\">Elon Musk tests $1-per-year...</span> </span> <span class=\"qXLe6d F9iS2e\"> <span class=\"fYyStc\">www.businesstoday.in</span> </span> </div></a></td></tr></table></div></div> </div> </div></td></tr><tr><td align=\"center\" class=\"e3goi\"><div class=\"jjVJ4e\"> <div> <div class=\"lIMUZd\"><div><table class=\"RntSmf\"><tr><td><a href=\"/url?q=https://www.investopedia.com/elon-musk-launched-his-own-ai-startup-heres-musks-net-worth-7562899&amp;sa=U&amp;ved=2ahUKEwi4qoGds6CDAxWYTWwGHaGOBN8QqoUBegQIBhAB&amp;usg=AOvVaw0Ss6ouiyw7VGq1cK6FmrmE\"><div class=\"kCmkOe\"><img alt=\"\" class=\"DS1iW\" src=\"https://encrypted-tbn0.gstatic.com/images?q=tbn:ANd9GcQUpbXylJ-BCytvIaprv6cj1oqc6QchlXaSpAMaJ0KAriVmKB_AeYhz2dUPGA&amp;s\"/></div></a></td></tr><tr><td><a href=\"/url?q=https://www.investopedia.com/elon-musk-launched-his-own-ai-startup-heres-musks-net-worth-7562899&amp;sa=U&amp;ved=2ahUKEwi4qoGds6CDAxWYTWwGHaGOBN8Qr4kDegQIBhAC&amp;usg=AOvVaw2jaeAjv4M1aR1tCC71PN3H\"><div class=\"AlD19d\"> <span class=\"qXLe6d x3G5ab\"> <span class=\"fYyStc\">Elon Musk Has Rebranded...</span> </span> <span class=\"qXLe6d F9iS2e\"> <span class=\"fYyStc\">www.investopedia.com</span> </span> </div></a></td></tr></table></div></div> </div> </div></td><td align=\"center\" class=\"e3goi\"><div class=\"jjVJ4e\"> <div> <div class=\"lIMUZd\"><div><table class=\"RntSmf\"><tr><td><a href=\"/url?q=https://www.lifestyleasia.com/ind/culture/people/companies-led-by-elon-musk/&amp;sa=U&amp;ved=2ahUKEwi4qoGds6CDAxWYTWwGHaGOBN8QqoUBegQIBRAB&amp;usg=AOvVaw0ecmeq0ORNOiaZQ1mmvfGC\"><div class=\"kCmkOe\"><img alt=\"\" class=\"DS1iW\" src=\"https://encrypted-tbn0.gstatic.com/images?q=tbn:ANd9GcQcu0veg5zB9G0EvG9_VOZAaNLJLFv1mMsOYzy3Xmy3tm5fe2U1wSQ_eLRGvw&amp;s\"/></div></a></td></tr><tr><td><a href=\"/url?q=https://www.lifestyleasia.com/ind/culture/people/companies-led-by-elon-musk/&amp;sa=U&amp;ved=2ahUKEwi4qoGds6CDAxWYTWwGHaGOBN8Qr4kDegQIBRAC&amp;usg=AOvVaw1FGHOX_bGMe20ezObhWTUG\"><div class=\"AlD19d\"> <span class=\"qXLe6d x3G5ab\"> <span class=\"fYyStc\">All the companies led by...</span> </span> <span class=\"qXLe6d F9iS2e\"> <span class=\"fYyStc\">www.lifestyleasia.com</span> </span> </div></a></td></tr></table></div></div> </div> </div></td><td align=\"center\" class=\"e3goi\"><div class=\"jjVJ4e\"> <div> <div class=\"lIMUZd\"><div><table class=\"RntSmf\"><tr><td><a href=\"/url?q=https://is.wikipedia.org/wiki/Elon_Musk&amp;sa=U&amp;ved=2ahUKEwi4qoGds6CDAxWYTWwGHaGOBN8QqoUBegQIBxAB&amp;usg=AOvVaw2JXxJxbHJN-vb3EkUAumxx\"><div class=\"kCmkOe\"><img alt=\"\" class=\"DS1iW\" src=\"https://encrypted-tbn0.gstatic.com/images?q=tbn:ANd9GcRi6VsY0O4Rwi4daY2t-PuvdJGdeLzaZDeakW3gypf8wEN6zzIP7g1IsEv8008&amp;s\"/></div></a></td></tr><tr><td><a href=\"/url?q=https://is.wikipedia.org/wiki/Elon_Musk&amp;sa=U&amp;ved=2ahUKEwi4qoGds6CDAxWYTWwGHaGOBN8Qr4kDegQIBxAC&amp;usg=AOvVaw27Si-w20s0p6Y3BAFPhYQw\"><div class=\"AlD19d\"> <span class=\"qXLe6d x3G5ab\"> <span class=\"fYyStc\">Elon Musk - Wikipedia,...</span> </span> <span class=\"qXLe6d F9iS2e\"> <span class=\"fYyStc\">is.wikipedia.org</span> </span> </div></a></td></tr></table></div></div> </div> </div></td><td align=\"center\" class=\"e3goi\"><div class=\"jjVJ4e\"> <div> <div class=\"lIMUZd\"><div><table class=\"RntSmf\"><tr><td><a href=\"/url?q=https://www.theceomagazine.com/business/coverstory/a-touch-of-madness-elon-musk/&amp;sa=U&amp;ved=2ahUKEwi4qoGds6CDAxWYTWwGHaGOBN8QqoUBegQICBAB&amp;usg=AOvVaw3bmJnJF10fUnfJLQ77Z8L_\"><div class=\"kCmkOe\"><img alt=\"\" class=\"DS1iW\" src=\"https://encrypted-tbn0.gstatic.com/images?q=tbn:ANd9GcRItVSFbeqKiYytfwlVHcUdJpCUSZBDk46fYtYBo71hwGfaqoZHtrJNZzQClyM&amp;s\"/></div></a></td></tr><tr><td><a href=\"/url?q=https://www.theceomagazine.com/business/coverstory/a-touch-of-madness-elon-musk/&amp;sa=U&amp;ved=2ahUKEwi4qoGds6CDAxWYTWwGHaGOBN8Qr4kDegQICBAC&amp;usg=AOvVaw1wBUmJlHr3qrez8-il0nkz\"><div class=\"AlD19d\"> <span class=\"qXLe6d x3G5ab\"> <span class=\"fYyStc\">A touch of madness: Elon...</span> </span> <span class=\"qXLe6d F9iS2e\"> <span class=\"fYyStc\">www.theceomagazine.com</span> </span> </div></a></td></tr></table></div></div> </div> </div></td></tr></table></div><table class=\"uZgmoc\"><tbody><td><a class=\"frGj1b\" href=\"/search?q=elon+musk%0D%0Aelon+musk%0D%0Aelon+musk&amp;sca_esv=592795123&amp;ie=UTF-8&amp;tbm=isch&amp;ei=Dh6EZbjrHJibseMPoZ2S-A0&amp;start=20&amp;sa=N\">Next &gt;</a></td></tbody></table><br/><div class=\"TuS8Ad\" data-ved=\"0ahUKEwi4qoGds6CDAxWYTWwGHaGOBN8QpyoIUg\"><style>.VYM29{font-weight:bold}</style><div align=\"center\" class=\"HddGcc\"><span class=\"VYM29\">Bengaluru, Karnataka</span><span> - </span><span>From your IP address</span><span> - </span><a href=\"/url?q=https://support.google.com/websearch%3Fp%3Dws_settings_location%26hl%3Den-IN&amp;opi=89978449&amp;sa=U&amp;ved=0ahUKEwi4qoGds6CDAxWYTWwGHaGOBN8Qty4IUw&amp;usg=AOvVaw1NnulwVTUi1Dwk5HGRXL-x\">Learn more</a></div><div align=\"center\"><a class=\"rEM8G\" href=\"/url?q=https://accounts.google.com/ServiceLogin%3Fcontinue%3Dhttps://www.google.co.in/search%253Fq%253Delon%252Bmusk%25250D%25250Aelon%252Bmusk%25250D%25250Aelon%252Bmusk%2526sca_esv%253D592795123%2526tbm%253Disch%2526sxsrf%253DAM9HkKmy2C6Zu3SRGi_II2qgNzL3-XkNEQ:1703156734482%2526source%253Dlnms%2526sa%253DX%2526ved%253D2ahUKEwiw-Z6hsaCDAxV2jGMGHbPbCagQ_AUoAnoECAQQBA%26hl%3Den&amp;opi=89978449&amp;sa=U&amp;ved=0ahUKEwi4qoGds6CDAxWYTWwGHaGOBN8Qxs8CCFQ&amp;usg=AOvVaw3KMKIzZFErsE1MK4o6_W9Q\">Sign in</a></div><div><table class=\"bookcf\"><tbody class=\"InWNIe\"><tr><td><a class=\"rEM8G\" href=\"https://www.google.co.in/preferences?hl=en&amp;sa=X&amp;ved=0ahUKEwi4qoGds6CDAxWYTWwGHaGOBN8Qv5YECFU\">Settings</a></td><td><a class=\"rEM8G\" href=\"https://www.google.co.in/intl/en_in/policies/privacy/\">Privacy</a></td><td><a class=\"rEM8G\" href=\"https://www.google.co.in/intl/en_in/policies/terms/\">Terms</a></td></tr></tbody></table></div></div><div> </div></body></html>"
      ]
     },
     "execution_count": 11,
     "metadata": {},
     "output_type": "execute_result"
    }
   ],
   "source": [
    "soup"
   ]
  },
  {
   "cell_type": "code",
   "execution_count": 13,
   "id": "7f3e9085",
   "metadata": {},
   "outputs": [],
   "source": [
    "img_tags = soup.find_all(\"img\")"
   ]
  },
  {
   "cell_type": "code",
   "execution_count": 14,
   "id": "b1337b43",
   "metadata": {},
   "outputs": [
    {
     "data": {
      "text/plain": [
       "[<img alt=\"Google\" class=\"kgJEQe\" src=\"/images/branding/searchlogo/1x/googlelogo_desk_heirloom_color_150x55dp.gif\"/>,\n",
       " <img alt=\"\" class=\"DS1iW\" src=\"https://encrypted-tbn0.gstatic.com/images?q=tbn:ANd9GcQ91bYeYuNi93Snai-G61-ct5IkXUEpoeW1RpiOFFuRWggNeJf-7uN0OZsy5XI&amp;s\"/>,\n",
       " <img alt=\"\" class=\"DS1iW\" src=\"https://encrypted-tbn0.gstatic.com/images?q=tbn:ANd9GcQY_R5NSNoZkSlMo3hf86COGJ4fCv0s6Nx4k8uCGkWc6YGOn_m4-rIOQ3GhOhg&amp;s\"/>,\n",
       " <img alt=\"\" class=\"DS1iW\" src=\"https://encrypted-tbn0.gstatic.com/images?q=tbn:ANd9GcS6PtbO3oSFgC1yh6BPlre0Sr5h3aca6UrEmg7ibGUrD1g40Xm5cZBGYl7G3PU&amp;s\"/>,\n",
       " <img alt=\"\" class=\"DS1iW\" src=\"https://encrypted-tbn0.gstatic.com/images?q=tbn:ANd9GcSWquD3V9PShopfxR5z4mBgB3IZnXGWVDSQM_48N0nbiI_0DYg43GVIktea3Uc&amp;s\"/>,\n",
       " <img alt=\"\" class=\"DS1iW\" src=\"https://encrypted-tbn0.gstatic.com/images?q=tbn:ANd9GcS6mPr1g683xgMlTnJfswzPyIjixDUJCLKR_GUOYd43dGj0LB8Uum64r_cOjl4&amp;s\"/>,\n",
       " <img alt=\"\" class=\"DS1iW\" src=\"https://encrypted-tbn0.gstatic.com/images?q=tbn:ANd9GcRxf-Jbkdb6IZIh7oNtWyJhYtw3Kg80gamyGyRHZS8klkCrAzThS_D2ymM47A&amp;s\"/>,\n",
       " <img alt=\"\" class=\"DS1iW\" src=\"https://encrypted-tbn0.gstatic.com/images?q=tbn:ANd9GcSit4pT757dcMc1WPbrVBkYUb5E4Ygt_lFw8lpxrFlwyd64-XHkaUddjMVxd4o&amp;s\"/>,\n",
       " <img alt=\"\" class=\"DS1iW\" src=\"https://encrypted-tbn0.gstatic.com/images?q=tbn:ANd9GcSC5RSmo0V4rgzk_h3Z2z6nm7BVUJKiKAPrMOn8lwxDNT2XHwiAhBifDjJhLg&amp;s\"/>,\n",
       " <img alt=\"\" class=\"DS1iW\" src=\"https://encrypted-tbn0.gstatic.com/images?q=tbn:ANd9GcTQzJ8NdjDL9cIHWYkmTSdyrRWTLeCecqJ6jDCU7ihusko_Bkss8Z32axjQ3w&amp;s\"/>,\n",
       " <img alt=\"\" class=\"DS1iW\" src=\"https://encrypted-tbn0.gstatic.com/images?q=tbn:ANd9GcQosXj2elVFnxW60i0y2hp3ewC9ttZ6z78KaQ1MIqaaLOD_iocx9TT8qVsKW-k&amp;s\"/>,\n",
       " <img alt=\"\" class=\"DS1iW\" src=\"https://encrypted-tbn0.gstatic.com/images?q=tbn:ANd9GcT9rBk-a9Lvwz7Fyzn9IwOyc3J1CddMDXaZgjYYHJfihEdFnfJ0vIUKXaY5Cw&amp;s\"/>,\n",
       " <img alt=\"\" class=\"DS1iW\" src=\"https://encrypted-tbn0.gstatic.com/images?q=tbn:ANd9GcQDLxOuBumjka6l-AZQpHwv3oGffiEFpaGNLU1tNk-wHHuiQ5h8iU9lJQ3S1A&amp;s\"/>,\n",
       " <img alt=\"\" class=\"DS1iW\" src=\"https://encrypted-tbn0.gstatic.com/images?q=tbn:ANd9GcSMYNRVFWT78z1HfCjjsXyWHH40VRIwjNiYar3jQYHUhnaCQJZ6GSxCQ6cYto8&amp;s\"/>,\n",
       " <img alt=\"\" class=\"DS1iW\" src=\"https://encrypted-tbn0.gstatic.com/images?q=tbn:ANd9GcTWJdi6pO_mpg6fBEvwb2IpHMDxJ3UCBhgIl4SW6mbzSwVLvNagjW9uInaf-z0&amp;s\"/>,\n",
       " <img alt=\"\" class=\"DS1iW\" src=\"https://encrypted-tbn0.gstatic.com/images?q=tbn:ANd9GcSifT0y-6dJZMb4JUG4oKjHB_GryHvbV_5LxN7M0mGAsu2zpFPjPnxHn8ntQw&amp;s\"/>,\n",
       " <img alt=\"\" class=\"DS1iW\" src=\"https://encrypted-tbn0.gstatic.com/images?q=tbn:ANd9GcTwmEzJ-l2dhfo2oYKk6NRM0IdSGKzzcPe9COubgzyEs23qkYCtOLHAX0InZQ&amp;s\"/>,\n",
       " <img alt=\"\" class=\"DS1iW\" src=\"https://encrypted-tbn0.gstatic.com/images?q=tbn:ANd9GcQUpbXylJ-BCytvIaprv6cj1oqc6QchlXaSpAMaJ0KAriVmKB_AeYhz2dUPGA&amp;s\"/>,\n",
       " <img alt=\"\" class=\"DS1iW\" src=\"https://encrypted-tbn0.gstatic.com/images?q=tbn:ANd9GcQcu0veg5zB9G0EvG9_VOZAaNLJLFv1mMsOYzy3Xmy3tm5fe2U1wSQ_eLRGvw&amp;s\"/>,\n",
       " <img alt=\"\" class=\"DS1iW\" src=\"https://encrypted-tbn0.gstatic.com/images?q=tbn:ANd9GcRi6VsY0O4Rwi4daY2t-PuvdJGdeLzaZDeakW3gypf8wEN6zzIP7g1IsEv8008&amp;s\"/>,\n",
       " <img alt=\"\" class=\"DS1iW\" src=\"https://encrypted-tbn0.gstatic.com/images?q=tbn:ANd9GcRItVSFbeqKiYytfwlVHcUdJpCUSZBDk46fYtYBo71hwGfaqoZHtrJNZzQClyM&amp;s\"/>]"
      ]
     },
     "execution_count": 14,
     "metadata": {},
     "output_type": "execute_result"
    }
   ],
   "source": [
    "img_tags"
   ]
  },
  {
   "cell_type": "code",
   "execution_count": 15,
   "id": "8a4b2f0a",
   "metadata": {},
   "outputs": [],
   "source": [
    "del img_tags [0]"
   ]
  },
  {
   "cell_type": "code",
   "execution_count": 16,
   "id": "905e9d50",
   "metadata": {},
   "outputs": [
    {
     "data": {
      "text/plain": [
       "[<img alt=\"\" class=\"DS1iW\" src=\"https://encrypted-tbn0.gstatic.com/images?q=tbn:ANd9GcQ91bYeYuNi93Snai-G61-ct5IkXUEpoeW1RpiOFFuRWggNeJf-7uN0OZsy5XI&amp;s\"/>,\n",
       " <img alt=\"\" class=\"DS1iW\" src=\"https://encrypted-tbn0.gstatic.com/images?q=tbn:ANd9GcQY_R5NSNoZkSlMo3hf86COGJ4fCv0s6Nx4k8uCGkWc6YGOn_m4-rIOQ3GhOhg&amp;s\"/>,\n",
       " <img alt=\"\" class=\"DS1iW\" src=\"https://encrypted-tbn0.gstatic.com/images?q=tbn:ANd9GcS6PtbO3oSFgC1yh6BPlre0Sr5h3aca6UrEmg7ibGUrD1g40Xm5cZBGYl7G3PU&amp;s\"/>,\n",
       " <img alt=\"\" class=\"DS1iW\" src=\"https://encrypted-tbn0.gstatic.com/images?q=tbn:ANd9GcSWquD3V9PShopfxR5z4mBgB3IZnXGWVDSQM_48N0nbiI_0DYg43GVIktea3Uc&amp;s\"/>,\n",
       " <img alt=\"\" class=\"DS1iW\" src=\"https://encrypted-tbn0.gstatic.com/images?q=tbn:ANd9GcS6mPr1g683xgMlTnJfswzPyIjixDUJCLKR_GUOYd43dGj0LB8Uum64r_cOjl4&amp;s\"/>,\n",
       " <img alt=\"\" class=\"DS1iW\" src=\"https://encrypted-tbn0.gstatic.com/images?q=tbn:ANd9GcRxf-Jbkdb6IZIh7oNtWyJhYtw3Kg80gamyGyRHZS8klkCrAzThS_D2ymM47A&amp;s\"/>,\n",
       " <img alt=\"\" class=\"DS1iW\" src=\"https://encrypted-tbn0.gstatic.com/images?q=tbn:ANd9GcSit4pT757dcMc1WPbrVBkYUb5E4Ygt_lFw8lpxrFlwyd64-XHkaUddjMVxd4o&amp;s\"/>,\n",
       " <img alt=\"\" class=\"DS1iW\" src=\"https://encrypted-tbn0.gstatic.com/images?q=tbn:ANd9GcSC5RSmo0V4rgzk_h3Z2z6nm7BVUJKiKAPrMOn8lwxDNT2XHwiAhBifDjJhLg&amp;s\"/>,\n",
       " <img alt=\"\" class=\"DS1iW\" src=\"https://encrypted-tbn0.gstatic.com/images?q=tbn:ANd9GcTQzJ8NdjDL9cIHWYkmTSdyrRWTLeCecqJ6jDCU7ihusko_Bkss8Z32axjQ3w&amp;s\"/>,\n",
       " <img alt=\"\" class=\"DS1iW\" src=\"https://encrypted-tbn0.gstatic.com/images?q=tbn:ANd9GcQosXj2elVFnxW60i0y2hp3ewC9ttZ6z78KaQ1MIqaaLOD_iocx9TT8qVsKW-k&amp;s\"/>,\n",
       " <img alt=\"\" class=\"DS1iW\" src=\"https://encrypted-tbn0.gstatic.com/images?q=tbn:ANd9GcT9rBk-a9Lvwz7Fyzn9IwOyc3J1CddMDXaZgjYYHJfihEdFnfJ0vIUKXaY5Cw&amp;s\"/>,\n",
       " <img alt=\"\" class=\"DS1iW\" src=\"https://encrypted-tbn0.gstatic.com/images?q=tbn:ANd9GcQDLxOuBumjka6l-AZQpHwv3oGffiEFpaGNLU1tNk-wHHuiQ5h8iU9lJQ3S1A&amp;s\"/>,\n",
       " <img alt=\"\" class=\"DS1iW\" src=\"https://encrypted-tbn0.gstatic.com/images?q=tbn:ANd9GcSMYNRVFWT78z1HfCjjsXyWHH40VRIwjNiYar3jQYHUhnaCQJZ6GSxCQ6cYto8&amp;s\"/>,\n",
       " <img alt=\"\" class=\"DS1iW\" src=\"https://encrypted-tbn0.gstatic.com/images?q=tbn:ANd9GcTWJdi6pO_mpg6fBEvwb2IpHMDxJ3UCBhgIl4SW6mbzSwVLvNagjW9uInaf-z0&amp;s\"/>,\n",
       " <img alt=\"\" class=\"DS1iW\" src=\"https://encrypted-tbn0.gstatic.com/images?q=tbn:ANd9GcSifT0y-6dJZMb4JUG4oKjHB_GryHvbV_5LxN7M0mGAsu2zpFPjPnxHn8ntQw&amp;s\"/>,\n",
       " <img alt=\"\" class=\"DS1iW\" src=\"https://encrypted-tbn0.gstatic.com/images?q=tbn:ANd9GcTwmEzJ-l2dhfo2oYKk6NRM0IdSGKzzcPe9COubgzyEs23qkYCtOLHAX0InZQ&amp;s\"/>,\n",
       " <img alt=\"\" class=\"DS1iW\" src=\"https://encrypted-tbn0.gstatic.com/images?q=tbn:ANd9GcQUpbXylJ-BCytvIaprv6cj1oqc6QchlXaSpAMaJ0KAriVmKB_AeYhz2dUPGA&amp;s\"/>,\n",
       " <img alt=\"\" class=\"DS1iW\" src=\"https://encrypted-tbn0.gstatic.com/images?q=tbn:ANd9GcQcu0veg5zB9G0EvG9_VOZAaNLJLFv1mMsOYzy3Xmy3tm5fe2U1wSQ_eLRGvw&amp;s\"/>,\n",
       " <img alt=\"\" class=\"DS1iW\" src=\"https://encrypted-tbn0.gstatic.com/images?q=tbn:ANd9GcRi6VsY0O4Rwi4daY2t-PuvdJGdeLzaZDeakW3gypf8wEN6zzIP7g1IsEv8008&amp;s\"/>,\n",
       " <img alt=\"\" class=\"DS1iW\" src=\"https://encrypted-tbn0.gstatic.com/images?q=tbn:ANd9GcRItVSFbeqKiYytfwlVHcUdJpCUSZBDk46fYtYBo71hwGfaqoZHtrJNZzQClyM&amp;s\"/>]"
      ]
     },
     "execution_count": 16,
     "metadata": {},
     "output_type": "execute_result"
    }
   ],
   "source": [
    "img_tags"
   ]
  },
  {
   "cell_type": "code",
   "execution_count": 17,
   "id": "2545cd22",
   "metadata": {},
   "outputs": [
    {
     "data": {
      "text/plain": [
       "20"
      ]
     },
     "execution_count": 17,
     "metadata": {},
     "output_type": "execute_result"
    }
   ],
   "source": [
    "len(img_tags)"
   ]
  },
  {
   "cell_type": "code",
   "execution_count": 24,
   "id": "e796b783",
   "metadata": {},
   "outputs": [
    {
     "name": "stdout",
     "output_type": "stream",
     "text": [
      "0\n",
      "1\n",
      "2\n",
      "3\n",
      "4\n",
      "5\n",
      "6\n",
      "7\n",
      "8\n",
      "9\n",
      "10\n",
      "11\n",
      "12\n",
      "13\n",
      "14\n",
      "15\n",
      "16\n",
      "17\n",
      "18\n",
      "19\n"
     ]
    }
   ],
   "source": [
    "for i in img_tags:\n",
    "    print(img_tags.index(i))\n",
    "    "
   ]
  },
  {
   "cell_type": "code",
   "execution_count": 30,
   "id": "f4699886",
   "metadata": {},
   "outputs": [],
   "source": [
    "for i in img_tags:\n",
    "    img_url=i[\"src\"]\n",
    "    img_data= requests.get(img_url).content\n",
    "    with open(os.path.join(save_dir,f\"{query}_{img_tags.index(i)}.jpg\"),\"wb\")as f:\n",
    "        f.write(img_data)"
   ]
  },
  {
   "cell_type": "code",
   "execution_count": null,
   "id": "66d980c3",
   "metadata": {},
   "outputs": [],
   "source": []
  }
 ],
 "metadata": {
  "kernelspec": {
   "display_name": "Python 3 (ipykernel)",
   "language": "python",
   "name": "python3"
  },
  "language_info": {
   "codemirror_mode": {
    "name": "ipython",
    "version": 3
   },
   "file_extension": ".py",
   "mimetype": "text/x-python",
   "name": "python",
   "nbconvert_exporter": "python",
   "pygments_lexer": "ipython3",
   "version": "3.11.5"
  }
 },
 "nbformat": 4,
 "nbformat_minor": 5
}
